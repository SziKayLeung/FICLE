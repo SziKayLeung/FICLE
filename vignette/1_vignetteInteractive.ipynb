{
 "cells": [
  {
   "cell_type": "markdown",
   "metadata": {},
   "source": [
    "# FICLE vignette\n",
    "\n",
    "This vignette is a demonstration of how to run FICLE using the demo data from the input folder to generate the files in the output folder. The input files are a subset of the data generated from an AD mouse model (Leung et al. 2023)."
   ]
  },
  {
   "cell_type": "markdown",
   "metadata": {},
   "source": [
    "### Load modules and FICLE"
   ]
  },
  {
   "cell_type": "code",
   "execution_count": 1,
   "metadata": {},
   "outputs": [],
   "source": [
    "##------------- Load modules -----------\n",
    "import sys\n",
    "import os\n",
    "from argparse import Namespace\n",
    "\n",
    "##------------- Load ficle -----------\n",
    "rootPath = os.path.join(os.path.dirname(os.path.realpath('__file__')) , \"..\")\n",
    "sys.path.insert(1, rootPath)\n",
    "import ficle as ficle"
   ]
  },
  {
   "cell_type": "markdown",
   "metadata": {},
   "source": [
    "### Arguments\n",
    "\n",
    "**Mandatory**    \n",
    "`--genename` = gene to characterise  \n",
    "`--reference` = reference gtf   \n",
    "`--input_bed` = sorted bed12 file of final set of isoforms     \n",
    "`--input_gtf` = gtf file of final set of isoforms (from SQANTI)  \n",
    "`--input_class` = SQANTI classification file   \n",
    "`--output_dir` = output directory  \n",
    "\n",
    "**Optional**  \n",
    "`--cpat` =  ORF_prob.best.tsv generated from CPAT  "
   ]
  },
  {
   "cell_type": "markdown",
   "metadata": {},
   "source": [
    "### Characterise Trem2"
   ]
  },
  {
   "cell_type": "code",
   "execution_count": 2,
   "metadata": {},
   "outputs": [
    {
     "name": "stdout",
     "output_type": "stream",
     "text": [
      "Subsetting Trem2 from /lustre/projects/Research_Project-MRC148213/sl693/scripts/FICLE/vignette/0_input/subsetted_gencode_vM22_annotation.gtf\n",
      "Working with mouse dataset\n",
      "Not using ORF for classification\n",
      "**** Extracting gtf\n",
      "Converting gtf file from SQANTI: PB gene id to gene name\n",
      "Using /lustre/projects/Research_Project-MRC148213/sl693/scripts/FICLE/vignette/0_input/input_classification.txt\n",
      "Total number of isoforms: 211\n",
      "**** Extracting for transcripts associated with: Trem2\n",
      "Number of detected transcripts: 97\n",
      "Parsing through transcript 0\n",
      "Parsing through transcript 50\n",
      "Number of Transcripts with all exons and exact match: 0\n",
      "Number of Transcripts with exact match but not all exons: 11\n",
      "Tabulating exon presence\n",
      "Number of transcripts with number of exons\n",
      "Counter({5: 52, 4: 24, 3: 12, 1: 4, 2: 4, 6: 1})\n",
      "Processing transcripts for exon skipping\n",
      "Identifying transcripts with novel exons\n",
      "Number of unique novel exons: 13\n",
      "Total Number of transcripts with novel exon:  16\n",
      "Identifying transcripts with intron retention\n",
      "Identifying transcripts with alternative 5' and 3' sites\n",
      "**** Final classification of transcripts by...\n",
      "NEIntOnly : 5\n",
      "ES_NeInt_Both : 9\n",
      "ESOnly : 71\n",
      "AF : 3\n",
      "A5A3 : 1\n",
      "NE_First : 2\n",
      "SomeMatch : 1\n",
      "IR_ES_Both : 5\n",
      "**** All Done! ****\n"
     ]
    }
   ],
   "source": [
    "inputDir = os.path.dirname(os.path.realpath('__file__')) + \"/0_input/\"\n",
    "outputDir = os.path.dirname(os.path.realpath('__file__')) + \"/0_results/\"\n",
    "args = Namespace(\n",
    "    genename = \"Trem2\",\n",
    "    reference = inputDir + \"subsetted_gencode_vM22_annotation.gtf\",\n",
    "    input_bed = inputDir + \"input_sorted.bed12\",\n",
    "    input_gtf = inputDir + \"input.gtf\",\n",
    "    input_class = inputDir + \"input_classification.txt\",\n",
    "    cpat = None,\n",
    "    output_dir = outputDir\n",
    ")\n",
    "\n",
    "ficle.annotate_gene(args)"
   ]
  },
  {
   "cell_type": "markdown",
   "metadata": {},
   "source": [
    "### Characterise Rhbdf2\n",
    "\n",
    "*Note the only difference in the below argument from the above is the `--genename`.*"
   ]
  },
  {
   "cell_type": "code",
   "execution_count": 3,
   "metadata": {},
   "outputs": [
    {
     "name": "stdout",
     "output_type": "stream",
     "text": [
      "Subsetting Rhbdf2 from /lustre/projects/Research_Project-MRC148213/sl693/scripts/FICLE/vignette/0_input/subsetted_gencode_vM22_annotation.gtf\n",
      "Working with mouse dataset\n",
      "Not using ORF for classification\n",
      "**** Extracting gtf\n",
      "Converting gtf file from SQANTI: PB gene id to gene name\n",
      "Using /lustre/projects/Research_Project-MRC148213/sl693/scripts/FICLE/vignette/0_input/input_classification.txt\n",
      "Total number of isoforms: 211\n",
      "**** Extracting for transcripts associated with: Rhbdf2\n",
      "Number of detected transcripts: 18\n",
      "Parsing through transcript 0\n",
      "Number of Transcripts with all exons and exact match: 0\n",
      "Number of Transcripts with exact match but not all exons: 9\n",
      "Tabulating exon presence\n",
      "Number of transcripts with number of exons\n",
      "Counter({18: 3, 12: 1, 13: 1, 9: 1, 6: 1, 5: 1, 17: 1, 11: 1, 10: 1, 14: 1, 4: 1, 15: 1, 8: 1, 2: 1, 19: 1, 7: 1})\n",
      "Processing transcripts for exon skipping\n",
      "Identifying transcripts with novel exons\n",
      "no novel exons\n",
      "Identifying transcripts with intron retention\n",
      "No transcripts with intron retention\n",
      "Identifying transcripts with alternative 5' and 3' sites\n",
      "**** Final classification of transcripts by...\n",
      "SomeMatch : 9\n",
      "ESOnly : 2\n",
      "AF : 6\n",
      "A5A3 : 1\n",
      "**** All Done! ****\n"
     ]
    }
   ],
   "source": [
    "inputDir = os.path.dirname(os.path.realpath('__file__')) + \"/0_input/\"\n",
    "outputDir = os.path.dirname(os.path.realpath('__file__')) + \"/0_results/\"\n",
    "args = Namespace(\n",
    "    genename = \"Rhbdf2\",\n",
    "    reference = inputDir + \"subsetted_gencode_vM22_annotation.gtf\",\n",
    "    input_bed = inputDir + \"input_sorted.bed12\",\n",
    "    input_gtf = inputDir + \"input.gtf\",\n",
    "    input_class = inputDir + \"input_classification.txt\",\n",
    "    cpat = None,\n",
    "    output_dir = outputDir\n",
    ")\n",
    "\n",
    "ficle.annotate_gene(args)"
   ]
  }
 ],
 "metadata": {
  "kernelspec": {
   "display_name": "Python 3",
   "language": "python",
   "name": "python3"
  },
  "language_info": {
   "codemirror_mode": {
    "name": "ipython",
    "version": 3
   },
   "file_extension": ".py",
   "mimetype": "text/x-python",
   "name": "python",
   "nbconvert_exporter": "python",
   "pygments_lexer": "ipython3",
   "version": "3.6.15"
  }
 },
 "nbformat": 4,
 "nbformat_minor": 2
}
