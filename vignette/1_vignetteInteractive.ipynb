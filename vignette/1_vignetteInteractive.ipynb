{
 "cells": [
  {
   "cell_type": "markdown",
   "metadata": {},
   "source": [
    "# FICLE vignette\n",
    "\n",
    "This vignette is a demonstration of how to run FICLE using the demo data from the input folder to generate the files in the output folder. The input files are a subset of the data generated from an AD mouse model (Leung et al. 2023)."
   ]
  },
  {
   "cell_type": "markdown",
   "metadata": {},
   "source": [
    "### Load modules and FICLE"
   ]
  },
  {
   "cell_type": "code",
   "execution_count": 1,
   "metadata": {},
   "outputs": [],
   "source": [
    "##------------- Load modules -----------\n",
    "import sys\n",
    "import os\n",
    "from argparse import Namespace\n",
    "\n",
    "##------------- Load ficle -----------\n",
    "rootPath = os.path.join(os.path.dirname(os.path.realpath('__file__')) , \"..\")\n",
    "sys.path.insert(1, rootPath)\n",
    "import ficle as ficle"
   ]
  },
  {
   "cell_type": "markdown",
   "metadata": {},
   "source": [
    "### Arguments\n",
    "\n",
    "**Mandatory**    \n",
    "`--genename` = gene to characterise  \n",
    "`--reference` = reference gtf   \n",
    "`--input_bed` = sorted bed12 file of final set of isoforms     \n",
    "`--input_gtf` = gtf file of final set of isoforms (from SQANTI)  \n",
    "`--input_class` = SQANTI classification file   \n",
    "`--output_dir` = output directory  \n",
    "\n",
    "**Optional**  \n",
    "`--cpat` =  ORF_prob.best.tsv generated from CPAT  "
   ]
  },
  {
   "cell_type": "markdown",
   "metadata": {},
   "source": [
    "### Characterise Trem2"
   ]
  },
  {
   "cell_type": "code",
   "execution_count": 2,
   "metadata": {},
   "outputs": [
    {
     "name": "stdout",
     "output_type": "stream",
     "text": [
      "Subsetting Trem2 from /lustre/projects/Research_Project-MRC148213/sl693/scripts/FICLE/vignette/0_input/subsetted_gencode_vM22_annotation.gtf\n",
      "Working with mouse dataset\n",
      "Not using ORF for classification\n",
      "**** Extracting gtf\n",
      "Converting gtf file from SQANTI: PB gene id to gene name\n",
      "Using /lustre/projects/Research_Project-MRC148213/sl693/scripts/FICLE/vignette/0_input/input_classification.txt\n",
      "Total number of isoforms: 211\n",
      "**** Extracting for transcripts associated with: Trem2\n",
      "Number of detected transcripts: 97\n",
      "Parsing through transcript 0\n",
      "Parsing through transcript 50\n",
      "Number of Transcripts with all exons and exact match: 0\n",
      "Number of Transcripts with exact match but not all exons: 11\n",
      "Tabulating exon presence\n",
      "Number of transcripts with number of exons\n",
      "Counter({5: 52, 4: 24, 3: 12, 1: 4, 2: 4, 6: 1})\n",
      "Processing transcripts for exon skipping\n",
      "Identifying transcripts with novel exons\n",
      "Number of unique novel exons: 13\n",
      "Total Number of transcripts with novel exon:  16\n",
      "Identifying transcripts with intron retention\n",
      "Identifying transcripts with alternative 5' and 3' sites\n",
      "**** Final classification of transcripts by...\n",
      "AF : 3\n",
      "ES_NeInt_Both : 9\n",
      "NEIntOnly : 5\n",
      "NE_First : 2\n",
      "A5A3 : 1\n",
      "SomeMatch : 1\n",
      "IR_ES_Both : 5\n",
      "ESOnly : 71\n",
      "**** All Done! ****\n"
     ]
    }
   ],
   "source": [
    "inputDir = os.path.dirname(os.path.realpath('__file__')) + \"/0_input/\"\n",
    "outputDir = os.path.dirname(os.path.realpath('__file__')) + \"/0_results/\"\n",
    "args = Namespace(\n",
    "    genename = \"Trem2\",\n",
    "    reference = inputDir + \"subsetted_gencode_vM22_annotation.gtf\",\n",
    "    input_bed = inputDir + \"input_sorted.bed12\",\n",
    "    input_gtf = inputDir + \"input.gtf\",\n",
    "    input_class = inputDir + \"input_classification.txt\",\n",
    "    cpat = None,\n",
    "    output_dir = outputDir\n",
    ")\n",
    "\n",
    "ficle.annotate_gene(args)"
   ]
  },
  {
   "cell_type": "markdown",
   "metadata": {},
   "source": [
    "### Characterise Rhbdf2\n",
    "\n",
    "*Note the only difference in the below argument from the above is the `--genename`.*"
   ]
  },
  {
   "cell_type": "code",
   "execution_count": 3,
   "metadata": {},
   "outputs": [
    {
     "name": "stdout",
     "output_type": "stream",
     "text": [
      "Subsetting Rhbdf2 from /lustre/projects/Research_Project-MRC148213/sl693/scripts/FICLE/vignette/input/subsetted_gencode_vM22_annotation.gtf\n",
      "Working with mouse dataset\n",
      "Not using ORF for classification\n",
      "**** Extracting gtf\n"
     ]
    },
    {
     "ename": "KeyError",
     "evalue": "'gene_type'",
     "output_type": "error",
     "traceback": [
      "\u001b[0;31m---------------------------------------------------------------------------\u001b[0m",
      "\u001b[0;31mKeyError\u001b[0m                                  Traceback (most recent call last)",
      "\u001b[0;32m~/.conda/envs/lrp/lib/python3.6/site-packages/pandas/core/indexes/base.py\u001b[0m in \u001b[0;36mget_loc\u001b[0;34m(self, key, method, tolerance)\u001b[0m\n\u001b[1;32m   2897\u001b[0m             \u001b[0;32mtry\u001b[0m\u001b[0;34m:\u001b[0m\u001b[0;34m\u001b[0m\u001b[0;34m\u001b[0m\u001b[0m\n\u001b[0;32m-> 2898\u001b[0;31m                 \u001b[0;32mreturn\u001b[0m \u001b[0mself\u001b[0m\u001b[0;34m.\u001b[0m\u001b[0m_engine\u001b[0m\u001b[0;34m.\u001b[0m\u001b[0mget_loc\u001b[0m\u001b[0;34m(\u001b[0m\u001b[0mcasted_key\u001b[0m\u001b[0;34m)\u001b[0m\u001b[0;34m\u001b[0m\u001b[0;34m\u001b[0m\u001b[0m\n\u001b[0m\u001b[1;32m   2899\u001b[0m             \u001b[0;32mexcept\u001b[0m \u001b[0mKeyError\u001b[0m \u001b[0;32mas\u001b[0m \u001b[0merr\u001b[0m\u001b[0;34m:\u001b[0m\u001b[0;34m\u001b[0m\u001b[0;34m\u001b[0m\u001b[0m\n",
      "\u001b[0;32mpandas/_libs/index.pyx\u001b[0m in \u001b[0;36mpandas._libs.index.IndexEngine.get_loc\u001b[0;34m()\u001b[0m\n",
      "\u001b[0;32mpandas/_libs/index.pyx\u001b[0m in \u001b[0;36mpandas._libs.index.IndexEngine.get_loc\u001b[0;34m()\u001b[0m\n",
      "\u001b[0;32mpandas/_libs/hashtable_class_helper.pxi\u001b[0m in \u001b[0;36mpandas._libs.hashtable.PyObjectHashTable.get_item\u001b[0;34m()\u001b[0m\n",
      "\u001b[0;32mpandas/_libs/hashtable_class_helper.pxi\u001b[0m in \u001b[0;36mpandas._libs.hashtable.PyObjectHashTable.get_item\u001b[0;34m()\u001b[0m\n",
      "\u001b[0;31mKeyError\u001b[0m: 'gene_type'",
      "\nThe above exception was the direct cause of the following exception:\n",
      "\u001b[0;31mKeyError\u001b[0m                                  Traceback (most recent call last)",
      "\u001b[0;32m<ipython-input-3-8c74df4d8f66>\u001b[0m in \u001b[0;36m<module>\u001b[0;34m\u001b[0m\n\u001b[1;32m     11\u001b[0m )\n\u001b[1;32m     12\u001b[0m \u001b[0;34m\u001b[0m\u001b[0m\n\u001b[0;32m---> 13\u001b[0;31m \u001b[0mficle\u001b[0m\u001b[0;34m.\u001b[0m\u001b[0mannotate_gene\u001b[0m\u001b[0;34m(\u001b[0m\u001b[0margs\u001b[0m\u001b[0;34m)\u001b[0m\u001b[0;34m\u001b[0m\u001b[0;34m\u001b[0m\u001b[0m\n\u001b[0m",
      "\u001b[0;32m/lustre/projects/Research_Project-MRC148213/sl693/scripts/FICLE/vignette/../ficle.py\u001b[0m in \u001b[0;36mannotate_gene\u001b[0;34m(args)\u001b[0m\n\u001b[1;32m     58\u001b[0m \u001b[0;34m\u001b[0m\u001b[0m\n\u001b[1;32m     59\u001b[0m     \u001b[0;31m# read in gencode and transcriptome gtf\u001b[0m\u001b[0;34m\u001b[0m\u001b[0;34m\u001b[0m\u001b[0;34m\u001b[0m\u001b[0m\n\u001b[0;32m---> 60\u001b[0;31m     \u001b[0mgencode\u001b[0m\u001b[0;34m,\u001b[0m\u001b[0morder\u001b[0m \u001b[0;34m=\u001b[0m \u001b[0mprep\u001b[0m\u001b[0;34m.\u001b[0m\u001b[0mparse_gencode_reference\u001b[0m\u001b[0;34m(\u001b[0m\u001b[0margs\u001b[0m\u001b[0;34m)\u001b[0m\u001b[0;34m\u001b[0m\u001b[0;34m\u001b[0m\u001b[0m\n\u001b[0m\u001b[1;32m     61\u001b[0m     \u001b[0mgencode\u001b[0m\u001b[0;34m.\u001b[0m\u001b[0mrename\u001b[0m\u001b[0;34m(\u001b[0m\u001b[0;34m{\u001b[0m\u001b[0;34m'transcript'\u001b[0m\u001b[0;34m:\u001b[0m \u001b[0;34m'transcript_id'\u001b[0m\u001b[0;34m}\u001b[0m\u001b[0;34m,\u001b[0m \u001b[0maxis\u001b[0m\u001b[0;34m=\u001b[0m\u001b[0;36m1\u001b[0m\u001b[0;34m,\u001b[0m \u001b[0minplace\u001b[0m\u001b[0;34m=\u001b[0m\u001b[0;32mTrue\u001b[0m\u001b[0;34m)\u001b[0m\u001b[0;34m\u001b[0m\u001b[0;34m\u001b[0m\u001b[0m\n\u001b[1;32m     62\u001b[0m \u001b[0;34m\u001b[0m\u001b[0m\n",
      "\u001b[0;32m/lustre/projects/Research_Project-MRC148213/sl693/scripts/FICLE/vignette/../src/prepare_and_parse.py\u001b[0m in \u001b[0;36mparse_gencode_reference\u001b[0;34m(args)\u001b[0m\n\u001b[1;32m    176\u001b[0m \u001b[0;34m\u001b[0m\u001b[0m\n\u001b[1;32m    177\u001b[0m     \u001b[0;31m# obtain coordinates of known exons, note exons without exon_number in gencode are dropped\u001b[0m\u001b[0;34m\u001b[0m\u001b[0;34m\u001b[0m\u001b[0;34m\u001b[0m\u001b[0m\n\u001b[0;32m--> 178\u001b[0;31m     gencode = gencode.loc[(gencode['feature'] == 'exon') & (gencode['gene_type'] == 'protein_coding') & \n\u001b[0m\u001b[1;32m    179\u001b[0m                           (gencode[\"gene_name\"] == args.genename), [\"seqname\",\"start\",\"end\",\"exon_number\",\"transcript_id\"]]\n\u001b[1;32m    180\u001b[0m     \u001b[0mgencode\u001b[0m\u001b[0;34m[\u001b[0m\u001b[0;34m\"start_end\"\u001b[0m\u001b[0;34m]\u001b[0m \u001b[0;34m=\u001b[0m \u001b[0mgencode\u001b[0m\u001b[0;34m[\u001b[0m\u001b[0;34m'start'\u001b[0m\u001b[0;34m]\u001b[0m\u001b[0;34m.\u001b[0m\u001b[0mastype\u001b[0m\u001b[0;34m(\u001b[0m\u001b[0mstr\u001b[0m\u001b[0;34m)\u001b[0m \u001b[0;34m+\u001b[0m \u001b[0mgencode\u001b[0m\u001b[0;34m[\u001b[0m\u001b[0;34m'end'\u001b[0m\u001b[0;34m]\u001b[0m\u001b[0;34m.\u001b[0m\u001b[0mastype\u001b[0m\u001b[0;34m(\u001b[0m\u001b[0mstr\u001b[0m\u001b[0;34m)\u001b[0m\u001b[0;34m\u001b[0m\u001b[0;34m\u001b[0m\u001b[0m\n",
      "\u001b[0;32m~/.conda/envs/lrp/lib/python3.6/site-packages/pandas/core/frame.py\u001b[0m in \u001b[0;36m__getitem__\u001b[0;34m(self, key)\u001b[0m\n\u001b[1;32m   2904\u001b[0m             \u001b[0;32mif\u001b[0m \u001b[0mself\u001b[0m\u001b[0;34m.\u001b[0m\u001b[0mcolumns\u001b[0m\u001b[0;34m.\u001b[0m\u001b[0mnlevels\u001b[0m \u001b[0;34m>\u001b[0m \u001b[0;36m1\u001b[0m\u001b[0;34m:\u001b[0m\u001b[0;34m\u001b[0m\u001b[0;34m\u001b[0m\u001b[0m\n\u001b[1;32m   2905\u001b[0m                 \u001b[0;32mreturn\u001b[0m \u001b[0mself\u001b[0m\u001b[0;34m.\u001b[0m\u001b[0m_getitem_multilevel\u001b[0m\u001b[0;34m(\u001b[0m\u001b[0mkey\u001b[0m\u001b[0;34m)\u001b[0m\u001b[0;34m\u001b[0m\u001b[0;34m\u001b[0m\u001b[0m\n\u001b[0;32m-> 2906\u001b[0;31m             \u001b[0mindexer\u001b[0m \u001b[0;34m=\u001b[0m \u001b[0mself\u001b[0m\u001b[0;34m.\u001b[0m\u001b[0mcolumns\u001b[0m\u001b[0;34m.\u001b[0m\u001b[0mget_loc\u001b[0m\u001b[0;34m(\u001b[0m\u001b[0mkey\u001b[0m\u001b[0;34m)\u001b[0m\u001b[0;34m\u001b[0m\u001b[0;34m\u001b[0m\u001b[0m\n\u001b[0m\u001b[1;32m   2907\u001b[0m             \u001b[0;32mif\u001b[0m \u001b[0mis_integer\u001b[0m\u001b[0;34m(\u001b[0m\u001b[0mindexer\u001b[0m\u001b[0;34m)\u001b[0m\u001b[0;34m:\u001b[0m\u001b[0;34m\u001b[0m\u001b[0;34m\u001b[0m\u001b[0m\n\u001b[1;32m   2908\u001b[0m                 \u001b[0mindexer\u001b[0m \u001b[0;34m=\u001b[0m \u001b[0;34m[\u001b[0m\u001b[0mindexer\u001b[0m\u001b[0;34m]\u001b[0m\u001b[0;34m\u001b[0m\u001b[0;34m\u001b[0m\u001b[0m\n",
      "\u001b[0;32m~/.conda/envs/lrp/lib/python3.6/site-packages/pandas/core/indexes/base.py\u001b[0m in \u001b[0;36mget_loc\u001b[0;34m(self, key, method, tolerance)\u001b[0m\n\u001b[1;32m   2898\u001b[0m                 \u001b[0;32mreturn\u001b[0m \u001b[0mself\u001b[0m\u001b[0;34m.\u001b[0m\u001b[0m_engine\u001b[0m\u001b[0;34m.\u001b[0m\u001b[0mget_loc\u001b[0m\u001b[0;34m(\u001b[0m\u001b[0mcasted_key\u001b[0m\u001b[0;34m)\u001b[0m\u001b[0;34m\u001b[0m\u001b[0;34m\u001b[0m\u001b[0m\n\u001b[1;32m   2899\u001b[0m             \u001b[0;32mexcept\u001b[0m \u001b[0mKeyError\u001b[0m \u001b[0;32mas\u001b[0m \u001b[0merr\u001b[0m\u001b[0;34m:\u001b[0m\u001b[0;34m\u001b[0m\u001b[0;34m\u001b[0m\u001b[0m\n\u001b[0;32m-> 2900\u001b[0;31m                 \u001b[0;32mraise\u001b[0m \u001b[0mKeyError\u001b[0m\u001b[0;34m(\u001b[0m\u001b[0mkey\u001b[0m\u001b[0;34m)\u001b[0m \u001b[0;32mfrom\u001b[0m \u001b[0merr\u001b[0m\u001b[0;34m\u001b[0m\u001b[0;34m\u001b[0m\u001b[0m\n\u001b[0m\u001b[1;32m   2901\u001b[0m \u001b[0;34m\u001b[0m\u001b[0m\n\u001b[1;32m   2902\u001b[0m         \u001b[0;32mif\u001b[0m \u001b[0mtolerance\u001b[0m \u001b[0;32mis\u001b[0m \u001b[0;32mnot\u001b[0m \u001b[0;32mNone\u001b[0m\u001b[0;34m:\u001b[0m\u001b[0;34m\u001b[0m\u001b[0;34m\u001b[0m\u001b[0m\n",
      "\u001b[0;31mKeyError\u001b[0m: 'gene_type'"
     ]
    }
   ],
   "source": [
    "inputDir = os.path.dirname(os.path.realpath('__file__')) + \"/input/\"\n",
    "outputDir = os.path.dirname(os.path.realpath('__file__')) + \"/results/\"\n",
    "args = Namespace(\n",
    "    genename = \"Rhbdf2\",\n",
    "    reference = inputDir + \"subsetted_gencode_vM22_annotation.gtf\",\n",
    "    input_bed = inputDir + \"input_sorted.bed12\",\n",
    "    input_gtf = inputDir + \"input.gtf\",\n",
    "    input_class = inputDir + \"input_classification.txt\",\n",
    "    cpat = None,\n",
    "    output_dir = outputDir\n",
    ")\n",
    "\n",
    "ficle.annotate_gene(args)"
   ]
  }
 ],
 "metadata": {
  "kernelspec": {
   "display_name": "Python 3",
   "language": "python",
   "name": "python3"
  },
  "language_info": {
   "codemirror_mode": {
    "name": "ipython",
    "version": 3
   },
   "file_extension": ".py",
   "mimetype": "text/x-python",
   "name": "python",
   "nbconvert_exporter": "python",
   "pygments_lexer": "ipython3",
   "version": "3.6.15"
  }
 },
 "nbformat": 4,
 "nbformat_minor": 2
}
